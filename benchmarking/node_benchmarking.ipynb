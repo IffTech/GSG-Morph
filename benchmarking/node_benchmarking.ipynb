{
 "cells": [
  {
   "cell_type": "code",
   "execution_count": null,
   "source": [
    "# G/SG Morph - The Graph/Subgraph Isomorphism Library for Quantum Annealers.\n",
    "# Copyright (C) 2021 If and Only If (Iff) Technologies\n",
    "\n",
    "# This program is free software: you can redistribute it and/or modify\n",
    "# it under the terms of the GNU General Public License as published by\n",
    "# the Free Software Foundation, either version 3 of the License, or\n",
    "# (at your option) any later version.\n",
    "\n",
    "# This program is distributed in the hope that it will be useful,\n",
    "# but WITHOUT ANY WARRANTY; without even the implied warranty of\n",
    "# MERCHANTABILITY or FITNESS FOR A PARTICULAR PURPOSE.  See the\n",
    "# GNU General Public License for more details.\n",
    "\n",
    "# You should have received a copy of the GNU General Public License\n",
    "# along with this program.  If not, see <https://www.gnu.org/licenses/>."
   ],
   "outputs": [],
   "metadata": {}
  },
  {
   "cell_type": "markdown",
   "source": [
    "# Graph Node Benchmark\n",
    "\n",
    "In this benchmark, Hua's implementation of the graph isomorphism QUBO in his thesis [\"Adiabatic Quantum Computing with QUBO Formulations\", Appendix E](https://researchspace.auckland.ac.nz/bitstream/handle/2292/31576/whole.pdf?sequence=2&isAllowed=y) is compared against the G/SG Morph implementation of the same QUBO with regards to the QUBO generation time given increasing larger graphs.\n",
    "\n",
    "The graphs in question are Erdos-Renyi graphs with a fixed edge formation probability (0.5) but increasing number of nodes starting from 1 to 65. To ensure the given graphs are isomorphic, a technique is used from Calude, Dinneen, and Hua's paper [\"QUBO formulations for the graph isomorphism problem and related problems\"](https://doi.org/10.1016/j.tcs.2017.04.016), page 8 \"A random permutation of the vertices of each graph G1 was generated to obtain G2, hence the graphs G1 and G2 are always isomorphic\".\n",
    "\n",
    "The results obtained in the `node_benchmarking_results.csv` file were from running a slightly modified copy of this notebook (which had a different file path and some additional statements to allow for Google Colab to see the gsgmorph library and access to a Google Drive account) on Google Colab.\n",
    "\n",
    "Ideally, the test would have been extended to 100+ nodes to get an even better idea of performance scaling but at around 70 nodes Colab terminates the benchmarking due to excessive RAM usage."
   ],
   "metadata": {}
  },
  {
   "cell_type": "code",
   "execution_count": null,
   "source": [
    "import networkx as nx\n",
    "import numpy as np\n",
    "import gsgmorph.matrix_form\n",
    "import timeit\n",
    "import matplotlib.pyplot as plt\n",
    "import csv"
   ],
   "outputs": [],
   "metadata": {}
  },
  {
   "cell_type": "code",
   "execution_count": null,
   "source": [
    "rng = np.random.default_rng()\n",
    "\n",
    "with open('node_benchmark.csv', 'w', newline='') as csvfile:\n",
    "    fieldnames = ['num_nodes', 'gsgmorph', 'hua', 'qubo_equal']\n",
    "    writer = csv.DictWriter(csvfile, fieldnames=fieldnames)\n",
    "    writer.writeheader()\n",
    "\n",
    "    # go from 1 to 65 nodes, with 0.5 probability for edge formation\n",
    "    for n in range(1, 66):\n",
    "        g1 = nx.erdos_renyi_graph(n, 0.5, seed=0)\n",
    "\n",
    "\n",
    "        print(\"Nodes: {0}\".format(n))\n",
    "\n",
    "        # Keep the edges the same but shuffle the nodes around, \n",
    "        # inspired by Calude, Dinneen, and Hua's paper\n",
    "        # \"QUBO formulations for the graph isomorphism problem and related problems\"\n",
    "        # https://doi.org/10.1016/j.tcs.2017.04.016\n",
    "        perm = rng.permutation(g1.nodes())\n",
    "        mapping = {i: v for i, v in zip(g1.nodes(), perm)}\n",
    "        g2 = nx.relabel_nodes(g1, mapping, copy=True)\n",
    "        \n",
    "        def gsgm_graph_isomorphism():\n",
    "            gsgmorph.matrix_form.integer_graph_isomorphism(g1,g2)\n",
    "        def hua_graph_isomorphism():\n",
    "            gsgmorph.matrix_form.hua_graph_isomorphism(g1,g2)\n",
    "        # `timeit` arguments: https://stackoverflow.com/a/56763499\n",
    "        # number: run the program back-to-back \n",
    "        # repeat: repeat * number (see line above)\n",
    "        gsgmorph_time = min(timeit.repeat(gsgm_graph_isomorphism, repeat=2, number=4))\n",
    "        hua_time = min(timeit.repeat(hua_graph_isomorphism, repeat=2, number=4))\n",
    "\n",
    "        # Ensure the QUBO matrices obtained are equal\n",
    "        gsgmorph_matrix = gsgmorph.matrix_form.integer_graph_isomorphism(g1, g2) \n",
    "        hua_matrix = gsgmorph.matrix_form.hua_graph_isomorphism(g1, g2)\n",
    "        matrix_equal = \"\"\n",
    "        \n",
    "        if(gsgmorph_matrix == hua_matrix):\n",
    "            matrix_equal = \"TRUE\"\n",
    "        else:\n",
    "            matrix_equal = \"FALSE\"\n",
    "        writer.writerow({'num_nodes':n, \n",
    "                         'gsgmorph': gsgmorph_time,\n",
    "                         'hua': hua_time,\n",
    "                         'qubo_equal':matrix_equal})\n"
   ],
   "outputs": [],
   "metadata": {}
  },
  {
   "cell_type": "code",
   "execution_count": 1,
   "source": [
    "import matplotlib.pyplot as plt\n",
    "import pandas as pd"
   ],
   "outputs": [],
   "metadata": {}
  },
  {
   "cell_type": "code",
   "execution_count": 3,
   "source": [
    "df = pd.read_csv(\"node_benchmarking_results.csv\")\n",
    "\n",
    "# Number of nodes\n",
    "x = df['num_nodes']\n",
    "\n",
    "# Results from G/SG Morph and Hua's implementation\n",
    "gsgm = df['gsgmorph']\n",
    "hua = df['hua']\n",
    "\n",
    "plt.plot(x, gsgm, label='G/SG Morph') \n",
    "plt.plot(x, hua, label='Hua')\n",
    "plt.xlabel('Number of Nodes in Erdos Renyi Graph')\n",
    "plt.ylabel('Time (s)')\n",
    "plt.title(\"Graph Isomorphism QUBO Generation Performance with increasing nodes in Erdos-Renyi Graphs with 0.5 edge formation probability\")\n",
    "plt.legend()\n"
   ],
   "outputs": [
    {
     "output_type": "execute_result",
     "data": {
      "text/plain": [
       "<matplotlib.legend.Legend at 0x11babb850>"
      ]
     },
     "metadata": {},
     "execution_count": 3
    },
    {
     "output_type": "display_data",
     "data": {
      "text/plain": [
       "<Figure size 432x288 with 1 Axes>"
      ],
      "image/png": "[encoded data removed]"
     },
     "metadata": {
      "needs_background": "light"
     }
    }
   ],
   "metadata": {}
  }
 ],
 "metadata": {
  "kernelspec": {
   "display_name": "Python 3",
   "language": "python",
   "name": "python3"
  },
  "language_info": {
   "codemirror_mode": {
    "name": "ipython",
    "version": 3
   },
   "file_extension": ".py",
   "mimetype": "text/x-python",
   "name": "python",
   "nbconvert_exporter": "python",
   "pygments_lexer": "ipython3",
   "version": "3.9.2"
  }
 },
 "nbformat": 4,
 "nbformat_minor": 5
}