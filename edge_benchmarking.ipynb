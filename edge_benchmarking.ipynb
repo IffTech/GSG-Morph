{
 "cells": [
  {
   "cell_type": "code",
   "execution_count": null,
   "id": "chronic-electron",
   "metadata": {},
   "outputs": [],
   "source": [
    "import networkx as nx\n",
    "import numpy as np\n",
    "import gsgmorph.matrix_form\n",
    "import timeit\n",
    "import matplotlib.pyplot as plt\n",
    "import csv"
   ]
  },
  {
   "cell_type": "code",
   "execution_count": null,
   "id": "satisfactory-clark",
   "metadata": {},
   "outputs": [],
   "source": [
    "rng = np.random.default_rng()\n",
    "\n",
    "with open('edge_benchmark.csv', 'w', newline='') as csvfile:\n",
    "    fieldnames = ['edge_prob', 'gsgmorph', 'hua', 'qubo_equal']\n",
    "    writer = csv.DictWriter(csvfile, fieldnames=fieldnames)\n",
    "    writer.writeheader()\n",
    "    \n",
    "    # fixed number of nodes:\n",
    "    nodes = 50\n",
    "    # prob. of edge generation goes in increments of 5%\n",
    "    for prob_edges in range(0,105,5):\n",
    "        g1 = nx.erdos_renyi_graph(nodes, prob_edges/100, seed=0)\n",
    "\n",
    "        # number of times to shuffle the nodes around\n",
    "        gsgmorph_times = []\n",
    "        hua_times = []\n",
    "\n",
    "        print(\"\\rEdge Prob: {0}\\r\".format(prob_edges), end='')\n",
    "\n",
    "        # Keep the edges the same but shuffle the nodes around\n",
    "        perm = rng.permutation(g1.nodes())\n",
    "        mapping = {i: v for i, v in zip(g1.nodes(), perm)}\n",
    "        g2 = nx.relabel_nodes(g1, mapping, copy=True)\n",
    "        def gsgm_graph_isomorphism():\n",
    "            gsgmorph.matrix_form.integer_graph_isomorphism(g1,g2)\n",
    "        def hua_graph_isomorphism():\n",
    "            gsgmorph.matrix_form.hua_graph_isomorphism(g1,g2)\n",
    "        # `timeit` arguments: https://stackoverflow.com/questions/56763416/what-is-diffrence-between-number-and-repeat-in-python-timeit\n",
    "        # number: run the program back-to-back \n",
    "        # repeat: repeat * number (see line above)\n",
    "        gsgmorph_time = min(timeit.repeat(gsgm_graph_isomorphism, repeat=2, number=4))\n",
    "        hua_time = min(timeit.repeat(hua_graph_isomorphism, repeat=2, number=4))\n",
    "\n",
    "        gsgmorph_matrix = gsgmorph.matrix_form.integer_graph_isomorphism(g1, g2) \n",
    "        hua_matrix = gsgmorph.matrix_form.hua_graph_isomorphism(g1, g2)\n",
    "        matrix_equal = \"\"\n",
    "        if(gsgmorph_matrix == hua_matrix):\n",
    "            matrix_equal = \"TRUE\"\n",
    "        else:\n",
    "            matrix_equal = \"FALSE\"\n",
    "            \n",
    "        writer.writerow({'edge_prob':prob_edges, \n",
    "                         'gsgmorph': gsgmorph_time, \n",
    "                         'hua':hua_time,\n",
    "                         'qubo_equal':matrix_equal})"
   ]
  },
  {
   "cell_type": "code",
   "execution_count": null,
   "id": "chubby-promotion",
   "metadata": {},
   "outputs": [],
   "source": []
  }
 ],
 "metadata": {
  "kernelspec": {
   "display_name": "Python 3",
   "language": "python",
   "name": "python3"
  },
  "language_info": {
   "codemirror_mode": {
    "name": "ipython",
    "version": 3
   },
   "file_extension": ".py",
   "mimetype": "text/x-python",
   "name": "python",
   "nbconvert_exporter": "python",
   "pygments_lexer": "ipython3",
   "version": "3.9.2"
  }
 },
 "nbformat": 4,
 "nbformat_minor": 5
}
